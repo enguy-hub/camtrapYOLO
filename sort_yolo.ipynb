{
 "cells": [
  {
   "cell_type": "code",
   "execution_count": 1,
   "id": "d4fbb912-dace-4e13-af97-7a81737efb53",
   "metadata": {},
   "outputs": [],
   "source": [
    "import os\n",
    "import json\n",
    "import shutil\n",
    "import pandas as pd\n",
    "\n",
    "from fnmatch import fnmatch"
   ]
  },
  {
   "cell_type": "code",
   "execution_count": 2,
   "id": "c56436fa-eb15-4bd4-a76c-ded0869a3bcf",
   "metadata": {},
   "outputs": [],
   "source": [
    "# Without \"StudySite\" \n",
    "\n",
    "input_json = open()\n",
    "json_info = json.load(input_json)\n",
    "\n",
    "df_json = pd.DataFrame()\n",
    "\n",
    "for firstObjects in range(len(list(json_info))):\n",
    "    imagePath = list(json_info[firstObjects].values())[1]\n",
    "    imageName = list(json_info[firstObjects].values())[1].split('/')[3]\n",
    "    station = list(json_info[firstObjects].values())[1].split('/')[1]\n",
    "    session = list(json_info[firstObjects].values())[1].split('/')[2]\n",
    "    \n",
    "    detected_box = list(json_info[firstObjects].values())[2]\n",
    "    dectbox_numbers = len(detected_box)\n",
    "    \n",
    "    dect_category, confidence = [], []\n",
    "\n",
    "    if dectbox_numbers != 0:\n",
    "        \n",
    "        for secondObjects in range(dectbox_numbers):\n",
    "            dect_category.append(list(detected_box[secondObjects].values())[1])\n",
    "            confidence.append(list(detected_box[secondObjects].values())[3])\n",
    "    \n",
    "    data = imageName, station, session, str(dectbox_numbers), dect_category, confidence, imagePath\n",
    "    data = [list(data)]\n",
    "    \n",
    "    df_single = pd.DataFrame(data, columns=[\n",
    "        'imageName', 'Station', 'Session', 'amountofDetectionBoxes',\n",
    "        'detectedCategory', 'Confidence', 'imagePath'\n",
    "        ])\n",
    "    \n",
    "    df_json = pd.concat([df_json, df_single])\n",
    "    \n",
    "    df_json.to_csv('', index=False)\n"
   ]
  },
  {
   "cell_type": "code",
   "execution_count": null,
   "id": "cd357bc2-bea5-4f8f-acd2-aec8739c9c56",
   "metadata": {},
   "outputs": [],
   "source": []
  }
 ],
 "metadata": {
  "kernelspec": {
   "display_name": "Python 3",
   "language": "python",
   "name": "python3"
  },
  "language_info": {
   "codemirror_mode": {
    "name": "ipython",
    "version": 3
   },
   "file_extension": ".py",
   "mimetype": "text/x-python",
   "name": "python",
   "nbconvert_exporter": "python",
   "pygments_lexer": "ipython3",
   "version": "3.7.10"
  }
 },
 "nbformat": 4,
 "nbformat_minor": 5
}
